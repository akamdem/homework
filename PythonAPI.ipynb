{
 "cells": [
  {
   "cell_type": "code",
   "execution_count": null,
   "metadata": {},
   "outputs": [],
   "source": [
    "import pandas as pd\n",
    "from citipy import citipy\n",
    "import numpy as np\n",
    "import pandas as pd\n",
    "import requests\n",
    "import json\n",
    "import seaborn as sns\n",
    "import matplotlib.pyplot as plt\n",
    "%matplotlib inline"
   ]
  },
  {
   "cell_type": "code",
   "execution_count": null,
   "metadata": {},
   "outputs": [],
   "source": [
    "latitude = []\n",
    "longitude = []\n",
    "\n",
    "for each_lat in np.random.randint(-90,90,2000):\n",
    "    latitude.append(each_lat)\n",
    "\n",
    "for each_lon in np.random.randint(-180,180,2000):\n",
    "    longitude.append(each_lon)\n",
    "    \n",
    "latitude_and_Longitude = tuple(zip(latitude,longitude))\n",
    "\n",
    "    "
   ]
  },
  {
   "cell_type": "code",
   "execution_count": null,
   "metadata": {},
   "outputs": [],
   "source": [
    "cities = []\n",
    "country = []\n",
    "\n",
    "for lat,lon in latitude_and_Longitude:\n",
    "    city = citipy.nearest_city(lat,lon)\n",
    "    \n",
    "    cityName = city.city_name\n",
    "    \n",
    "    cities.append(cityName)\n",
    "    \n",
    "    country.append(city.country_code)"
   ]
  },
  {
   "cell_type": "code",
   "execution_count": null,
   "metadata": {},
   "outputs": [],
   "source": [
    "print('The above script has generated {} different cities using random numbers.'.format(len(set(cities))))\n",
    "\n",
    "#create a dataframe to store all the cities and countries generated with citipy\n",
    "\n",
    "df_countries = pd.DataFrame({'Cities': cities,\n",
    "              'Country': country})\n",
    "\n",
    "#add additional blank columns to store information from openweathermap api\n",
    "\n",
    "df_countries['Latitude'] = ''\n",
    "df_countries['Longitude'] = ''\n",
    "df_countries['Temperature (F)'] = ''\n",
    "df_countries['Humidity (%)'] = ''\n",
    "df_countries['Cloudiness (%)'] = ''\n",
    "df_countries['Wind Speed (mph)'] = ''"
   ]
  },
  {
   "cell_type": "code",
   "execution_count": null,
   "metadata": {},
   "outputs": [],
   "source": [
    "df_countries = df_countries.drop_duplicates(subset=['Cities'],keep='first')\n",
    "\n",
    "\n",
    "api_key = \"5be78fade1727ace968b5ab363d997bd\"\n",
    "\n",
    "\n",
    "for index,row in df_countries.iterrows():\n",
    "    city_name = row['Cities']\n",
    "    Country_id = row['Country']\n",
    "    \n",
    "    \n",
    "    #api call for all Cities \n",
    "    api_url = \"http://api.openweathermap.org/data/2.5/forecast\" \\\n",
    "    \"?q={},{}&units=IMPERIAL&mode=json&APPID={}\".format(city_name,Country_id,api_key)\n",
    "    \n",
    "    \n",
    "    country_info = requests.get(api_url).json()\n",
    "    \n",
    "    #print all api url's for each city\n",
    "    print(api_url)\n",
    "    \n",
    "    \n",
    "    try:\n",
    "        df_countries.set_value(index,'Latitude',country_info['city']['coord']['lat'])\n",
    "        df_countries.set_value(index,'Longitude',country_info['city']['coord']['lon'])\n",
    "        df_countries.set_value(index,'Temperature (F)',country_info['list'][0]['main']['temp'])\n",
    "        df_countries.set_value(index,'Humidity (%)',country_info['list'][0]['main']['humidity'])\n",
    "        df_countries.set_value(index,'Cloudiness (%)',country_info['list'][0]['clouds']['all'])\n",
    "        df_countries.set_value(index,'Wind Speed (mph)',country_info['list'][0]['wind']['speed'])\n",
    "        \n",
    "    except KeyError:\n",
    "        df_countries.set_value(index,'Latitude',np.nan)\n",
    "        df_countries.set_value(index,'Longitude',np.nan)\n",
    "        df_countries.set_value(index,'Temperature (F)',np.nan)\n",
    "        df_countries.set_value(index,'Humidity (%)',np.nan)\n",
    "        df_countries.set_value(index,'Cloudiness (%)',np.nan)\n",
    "        df_countries.set_value(index,'Wind Speed (mph)',np.nan)\n",
    "        \n",
    "        print('Missing weather information...skip')\n"
   ]
  },
  {
   "cell_type": "code",
   "execution_count": null,
   "metadata": {},
   "outputs": [],
   "source": [
    "df_countries['Latitude'] = pd.to_numeric(df_countries['Latitude'])\n",
    "df_countries['Longitude'] = pd.to_numeric(df_countries['Longitude'])\n",
    "df_countries['Temperature (F)'] = pd.to_numeric(df_countries['Temperature (F)'])\n",
    "df_countries['Humidity (%)'] = pd.to_numeric(df_countries['Humidity (%)'])\n",
    "df_countries['Cloudiness (%)'] = pd.to_numeric(df_countries['Cloudiness (%)'])\n",
    "df_countries['Wind Speed (mph)'] = pd.to_numeric(df_countries['Wind Speed (mph)'])"
   ]
  },
  {
   "cell_type": "code",
   "execution_count": null,
   "metadata": {},
   "outputs": [],
   "source": [
    "df_countries.head()"
   ]
  },
  {
   "cell_type": "code",
   "execution_count": null,
   "metadata": {},
   "outputs": [],
   "source": [
    "<style> .dataframe thead tr:only-child th { text-align: right; }\n",
    ".dataframe thead th {\n",
    "    text-align: left;\n",
    "}\n",
    "\n",
    ".dataframe tbody tr th {\n",
    "    vertical-align: top;\n",
    "}\n",
    "</style>"
   ]
  },
  {
   "cell_type": "code",
   "execution_count": null,
   "metadata": {},
   "outputs": [],
   "source": [
    "length_of_original_DF = len(df_countries)\n",
    "length_after_dropna = len(df_countries.dropna())\n",
    "\n",
    "missing_weather_info = length_of_original_DF - length_after_dropna\n",
    "\n",
    "\n",
    "print('For the following cities associated with this dataframe, {} cities did not contain weather\\\n",
    " information. These cities\\t will be dropped from this dataframe.'.format(missing_weather_info))\n",
    "\n",
    "print('\\n')\n",
    "\n",
    "print(\"The dataframe used for plotting contains weather information for {} different cities. \"\\\n",
    "      .format(len(df_countries.dropna())))"
   ]
  },
  {
   "cell_type": "code",
   "execution_count": null,
   "metadata": {},
   "outputs": [],
   "source": [
    "df_countries = df_countries.dropna()\n",
    "df_countries.to_csv(path_or_buf='df_countries.csv')"
   ]
  },
  {
   "cell_type": "code",
   "execution_count": null,
   "metadata": {},
   "outputs": [],
   "source": [
    "df_countries_table = df_countries.copy()\n",
    "df_countries_table['Latitude'] = pd.qcut(df_countries['Latitude'],11,precision=0)"
   ]
  },
  {
   "cell_type": "code",
   "execution_count": null,
   "metadata": {},
   "outputs": [],
   "source": [
    "cm = sns.light_palette('green',as_cmap=True)\n",
    "\n",
    "df_countries_table.groupby(['Latitude'])['Temperature (F)'].mean().reset_index().style.background_gradient(cmap=cm)\n",
    "\n",
    "<style type=\"text/css\" > #T_80b904f0_ccd9_11e7_b5c0_a45e60bc420drow0_col1 { background-color: #3ba13b; } #T_80b904f0_ccd9_11e7_b5c0_a45e60bc420drow1_col1 { background-color: #078407; } #T_80b904f0_ccd9_11e7_b5c0_a45e60bc420drow2_col1 { background-color: #068306; } #T_80b904f0_ccd9_11e7_b5c0_a45e60bc420drow3_col1 { background-color: #008000; } #T_80b904f0_ccd9_11e7_b5c0_a45e60bc420drow4_col1 { background-color: #028102; } #T_80b904f0_ccd9_11e7_b5c0_a45e60bc420drow5_col1 { background-color: #148b14; } #T_80b904f0_ccd9_11e7_b5c0_a45e60bc420drow6_col1 { background-color: #46a746; } #T_80b904f0_ccd9_11e7_b5c0_a45e60bc420drow7_col1 { background-color: #76c176; } #T_80b904f0_ccd9_11e7_b5c0_a45e60bc420drow8_col1 { background-color: #a5dba5; } #T_80b904f0_ccd9_11e7_b5c0_a45e60bc420drow9_col1 { background-color: #b9e7b9; } #T_80b904f0_ccd9_11e7_b5c0_a45e60bc420drow10_col1 { background-color: #e5ffe5; }</style>"
   ]
  },
  {
   "cell_type": "code",
   "execution_count": null,
   "metadata": {},
   "outputs": [],
   "source": [
    "plt.style.use('dark_background')\n"
   ]
  },
  {
   "cell_type": "code",
   "execution_count": null,
   "metadata": {},
   "outputs": [],
   "source": [
    "plt.figure(figsize=(18,5))\n",
    "plt.scatter(df_countries['Latitude'],df_countries['Temperature (F)'],color = 'red',s=20)\n",
    "plt.title('Temperature (F) vs. Latitude',fontsize=(18));\n",
    "plt.xlim(-90,90)\n",
    "plt.ylabel('Temperature (F)',fontsize=(15));\n",
    "plt.xlabel('Latitude',fontsize=(15));"
   ]
  },
  {
   "cell_type": "code",
   "execution_count": null,
   "metadata": {},
   "outputs": [],
   "source": [
    "df_countries_table.groupby(['Latitude'])['Humidity (%)'].mean().reset_index().style.background_gradient(cmap=cm)\n",
    "<style type=\"text/css\" > #T_88f2b918_ccd9_11e7_9b73_a45e60bc420drow0_col1 { background-color: #aadeaa; } #T_88f2b918_ccd9_11e7_9b73_a45e60bc420drow1_col1 { background-color: #e5ffe5; } #T_88f2b918_ccd9_11e7_9b73_a45e60bc420drow2_col1 { background-color: #168c16; } #T_88f2b918_ccd9_11e7_9b73_a45e60bc420drow3_col1 { background-color: #008000; } #T_88f2b918_ccd9_11e7_9b73_a45e60bc420drow4_col1 { background-color: #49a849; } #T_88f2b918_ccd9_11e7_9b73_a45e60bc420drow5_col1 { background-color: #9ed89e; } #T_88f2b918_ccd9_11e7_9b73_a45e60bc420drow6_col1 { background-color: #8dce8d; } #T_88f2b918_ccd9_11e7_9b73_a45e60bc420drow7_col1 { background-color: #98d498; } #T_88f2b918_ccd9_11e7_9b73_a45e60bc420drow8_col1 { background-color: #5eb45e; } #T_88f2b918_ccd9_11e7_9b73_a45e60bc420drow9_col1 { background-color: #319b31; } #T_88f2b918_ccd9_11e7_9b73_a45e60bc420drow10_col1 { background-color: #6dbc6d; }</style>"
   ]
  },
  {
   "cell_type": "code",
   "execution_count": null,
   "metadata": {},
   "outputs": [],
   "source": [
    "plt.figure(figsize=(18,5))\n",
    "plt.scatter(df_countries['Latitude'],df_countries['Humidity (%)'],color = 'white',s=20);\n",
    "plt.title('Humidity (%) vs. Latitude',fontsize=(18));\n",
    "plt.xlim(-90,90)\n",
    "plt.ylabel('Humidity (%)',fontsize=(15));\n",
    "plt.xlabel('Latitude',fontsize=(15));"
   ]
  },
  {
   "cell_type": "code",
   "execution_count": null,
   "metadata": {},
   "outputs": [],
   "source": [
    "df_countries_table.groupby(['Latitude'])['Cloudiness (%)'].mean().reset_index().style.background_gradient(cmap=cm)\n",
    "<style type=\"text/css\" > #T_8ac39230_ccd9_11e7_ad5e_a45e60bc420drow0_col1 { background-color: #d4f6d4; } #T_8ac39230_ccd9_11e7_ad5e_a45e60bc420drow1_col1 { background-color: #9fd89f; } #T_8ac39230_ccd9_11e7_ad5e_a45e60bc420drow2_col1 { background-color: #44a644; } #T_8ac39230_ccd9_11e7_ad5e_a45e60bc420drow3_col1 { background-color: #8bcd8b; } #T_8ac39230_ccd9_11e7_ad5e_a45e60bc420drow4_col1 { background-color: #52ad52; } #T_8ac39230_ccd9_11e7_ad5e_a45e60bc420drow5_col1 { background-color: #acdfac; } #T_8ac39230_ccd9_11e7_ad5e_a45e60bc420drow6_col1 { background-color: #e5ffe5; } #T_8ac39230_ccd9_11e7_ad5e_a45e60bc420drow7_col1 { background-color: #97d497; } #T_8ac39230_ccd9_11e7_ad5e_a45e60bc420drow8_col1 { background-color: #79c379; } #T_8ac39230_ccd9_11e7_ad5e_a45e60bc420drow9_col1 { background-color: #008000; } #T_8ac39230_ccd9_11e7_ad5e_a45e60bc420drow10_col1 { background-color: #44a544; }</style>"
   ]
  },
  {
   "cell_type": "code",
   "execution_count": null,
   "metadata": {},
   "outputs": [],
   "source": [
    "plt.figure(figsize=(18,5))\n",
    "plt.scatter(df_countries['Latitude'],df_countries['Cloudiness (%)'],color = 'w',s=20);\n",
    "plt.title('Cloudiness (%) vs. Latitude',fontsize=(18));\n",
    "plt.xlim(-90,90)\n",
    "plt.ylabel('Cloudiness (%)',fontsize=(15));\n",
    "plt.xlabel('Latitude',fontsize=(15));"
   ]
  },
  {
   "cell_type": "code",
   "execution_count": null,
   "metadata": {},
   "outputs": [],
   "source": [
    "df_countries_table.groupby(['Latitude'])['Wind Speed (mph)'].mean().reset_index().style.background_gradient(cmap=cm)\n",
    "<style type=\"text/css\" > #T_8e7526c8_ccd9_11e7_b919_a45e60bc420drow0_col1 { background-color: #008000; } #T_8e7526c8_ccd9_11e7_b919_a45e60bc420drow1_col1 { background-color: #098509; } #T_8e7526c8_ccd9_11e7_b919_a45e60bc420drow2_col1 { background-color: #9cd69c; } #T_8e7526c8_ccd9_11e7_b919_a45e60bc420drow3_col1 { background-color: #dcfadc; } #T_8e7526c8_ccd9_11e7_b919_a45e60bc420drow4_col1 { background-color: #dcfadc; } #T_8e7526c8_ccd9_11e7_b919_a45e60bc420drow5_col1 { background-color: #e5ffe5; } #T_8e7526c8_ccd9_11e7_b919_a45e60bc420drow6_col1 { background-color: #7cc57c; } #T_8e7526c8_ccd9_11e7_b919_a45e60bc420drow7_col1 { background-color: #038103; } #T_8e7526c8_ccd9_11e7_b919_a45e60bc420drow8_col1 { background-color: #1d901d; } #T_8e7526c8_ccd9_11e7_b919_a45e60bc420drow9_col1 { background-color: #229322; } #T_8e7526c8_ccd9_11e7_b919_a45e60bc420drow10_col1 { background-color: #5eb45e; }</style>"
   ]
  },
  {
   "cell_type": "code",
   "execution_count": null,
   "metadata": {},
   "outputs": [],
   "source": [
    "plt.figure(figsize=(18,5))\n",
    "plt.scatter(df_countries['Latitude'],df_countries['Wind Speed (mph)'],color = 'red',s=20);\n",
    "plt.xlim(-90,90)\n",
    "plt.title('Wind Speed (mph) vs. Latitude',fontsize=(18));\n",
    "plt.ylabel('Temperature Wind Speed (mph)',fontsize=(15));\n",
    "plt.xlabel('Latitude',fontsize=(15));"
   ]
  },
  {
   "cell_type": "code",
   "execution_count": null,
   "metadata": {},
   "outputs": [],
   "source": [
    "print(\"The average wind speed is {} mph for all randomly selected cities\".format(df_countries['Wind Speed (mph)'].mean()))\n",
    "The average wind speed is 8.35529318541997 mph for all randomly selected cities\n"
   ]
  },
  {
   "cell_type": "code",
   "execution_count": null,
   "metadata": {},
   "outputs": [],
   "source": [
    "#The wind speeds are higher on average at the north and south poles.\n",
    "\n",
    "#In the Wind Speed (mph) vs. Latitude scatter plot, the average when speed for all cities is fairly low.\n",
    "\n",
    "#In the Temperature vs. Latitude scatter plot, as the latitude increases the temperature increases.\n"
   ]
  },
  {
   "cell_type": "code",
   "execution_count": null,
   "metadata": {},
   "outputs": [],
   "source": []
  }
 ],
 "metadata": {
  "kernelspec": {
   "display_name": "PythonData",
   "language": "python",
   "name": "pythondata"
  },
  "language_info": {
   "codemirror_mode": {
    "name": "ipython",
    "version": 3
   },
   "file_extension": ".py",
   "mimetype": "text/x-python",
   "name": "python",
   "nbconvert_exporter": "python",
   "pygments_lexer": "ipython3",
   "version": "3.7.0"
  }
 },
 "nbformat": 4,
 "nbformat_minor": 2
}
