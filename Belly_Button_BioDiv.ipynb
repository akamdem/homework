{
 "cells": [
  {
   "cell_type": "code",
   "execution_count": 1,
   "metadata": {},
   "outputs": [],
   "source": [
    "# Imports & Dependencies\n",
    "import pandas as pd\n",
    "import numpy as np\n",
    "import sqlalchemy\n",
    "from sqlalchemy.ext.automap import automap_base\n",
    "from sqlalchemy.orm import Session\n",
    "from sqlalchemy import create_engine"
   ]
  },
  {
   "cell_type": "code",
   "execution_count": 2,
   "metadata": {},
   "outputs": [],
   "source": [
    "# Establishing connection to database# Estab \n",
    "dbfile = \"belly_button_biodiversity.sqlite\"\n",
    "engine = create_engine(f\"sqlite:///{dbfile}\")"
   ]
  },
  {
   "cell_type": "code",
   "execution_count": 3,
   "metadata": {},
   "outputs": [
    {
     "data": {
      "text/plain": [
       "[]"
      ]
     },
     "execution_count": 3,
     "metadata": {},
     "output_type": "execute_result"
    }
   ],
   "source": [
    "# Preparing and reflecting data# Prepa \n",
    "Base = automap_base()\n",
    "Base.prepare(engine, reflect=True)\n",
    "Base.classes.keys()"
   ]
  },
  {
   "cell_type": "code",
   "execution_count": null,
   "metadata": {},
   "outputs": [],
   "source": [
    "# Creating session & variables to query later\n",
    "session = Session(engine)\n",
    "samples = Base.classes.samples\n",
    "\n",
    "OTU = Base.classes.otu\n",
    "metadata = Base.classes.samples_metadata"
   ]
  },
  {
   "cell_type": "code",
   "execution_count": null,
   "metadata": {},
   "outputs": [],
   "source": [
    "# Extracting list of sample names\n",
    "samples_stmt = session.query(samples).statement\n",
    "samples_df = pd.read_sql_query(samples_stmt, session.bind)\n",
    "samples_df.set_index(\"otu_id\", inplace = True)\n",
    "sample_names = list(samples_df.columns)\n",
    "print(sample_names)"
   ]
  },
  {
   "cell_type": "code",
   "execution_count": null,
   "metadata": {},
   "outputs": [],
   "source": [
    "print(samples_df)"
   ]
  },
  {
   "cell_type": "code",
   "execution_count": null,
   "metadata": {},
   "outputs": [],
   "source": [
    "# Extracting metadata for a given sample# Extra \n",
    "metadata_stmt = session.query(metadata).statement\n",
    "metadata_df = pd.read_sql_query(metadata_stmt, session.bind)\n",
    "metadata_df.head()"
   ]
  },
  {
   "cell_type": "code",
   "execution_count": null,
   "metadata": {},
   "outputs": [],
   "source": [
    "# Extracting otu_id and sample values for given sample\n",
    "test_sample = \"BB_940\"\n",
    "samples_statement = session.query(samples).statement\n",
    "df = pd.read_sql_query(samples_statement, session.bind)\n",
    "df = df[df[test_sample] > 1]\n",
    "df = df.sort_values(by=test_sample, ascending=0)\n",
    "data = [{\n",
    "        \"otu_ids\": df[test_sample].index.values.tolist(),\n",
    "        \"sample_values\": df[test_sample].values.tolist()\n",
    "    }]\n",
    "data"
   ]
  }
 ],
 "metadata": {
  "kernelspec": {
   "display_name": "PythonData",
   "language": "python",
   "name": "pythondata"
  },
  "language_info": {
   "codemirror_mode": {
    "name": "ipython",
    "version": 3
   },
   "file_extension": ".py",
   "mimetype": "text/x-python",
   "name": "python",
   "nbconvert_exporter": "python",
   "pygments_lexer": "ipython3",
   "version": "3.7.0"
  }
 },
 "nbformat": 4,
 "nbformat_minor": 2
}
